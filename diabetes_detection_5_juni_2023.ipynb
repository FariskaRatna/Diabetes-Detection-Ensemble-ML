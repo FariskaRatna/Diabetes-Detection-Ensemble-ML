{
  "metadata": {
    "colab": {
      "collapsed_sections": [
        "ZzXrR0PYqo6x"
      ],
      "provenance": []
    },
    "kernelspec": {
      "name": "python3",
      "display_name": "Python 3",
      "language": "python"
    },
    "language_info": {
      "name": "python",
      "version": "3.10.10",
      "mimetype": "text/x-python",
      "codemirror_mode": {
        "name": "ipython",
        "version": 3
      },
      "pygments_lexer": "ipython3",
      "nbconvert_exporter": "python",
      "file_extension": ".py"
    }
  },
  "nbformat_minor": 0,
  "nbformat": 4,
  "cells": [
    {
      "cell_type": "code",
      "source": [
        "import numpy as np\n",
        "import pandas as pd\n",
        "import matplotlib.pyplot as plt\n",
        "import seaborn as sns\n",
        "from sklearn.metrics import accuracy_score,confusion_matrix\n",
        "from sklearn.metrics import classification_report\n",
        "from sklearn.model_selection import train_test_split\n",
        "from sklearn import metrics\n",
        "%matplotlib inline\n",
        "\n",
        "import warnings\n",
        "warnings.filterwarnings('ignore')"
      ],
      "metadata": {
        "id": "NLA4qUNioIfM",
        "execution": {
          "iopub.status.busy": "2023-06-03T14:49:23.935133Z",
          "iopub.execute_input": "2023-06-03T14:49:23.936091Z",
          "iopub.status.idle": "2023-06-03T14:49:23.946023Z",
          "shell.execute_reply.started": "2023-06-03T14:49:23.936067Z",
          "shell.execute_reply": "2023-06-03T14:49:23.945309Z"
        },
        "trusted": true
      },
      "execution_count": null,
      "outputs": []
    },
    {
      "cell_type": "code",
      "source": [
        "df = pd.read_csv('diabetes_data_upload.csv')"
      ],
      "metadata": {
        "id": "heGYZ2tDpSO8",
        "execution": {
          "iopub.status.busy": "2023-06-03T14:49:23.947444Z",
          "iopub.execute_input": "2023-06-03T14:49:23.947701Z",
          "iopub.status.idle": "2023-06-03T14:49:23.982548Z",
          "shell.execute_reply.started": "2023-06-03T14:49:23.947680Z",
          "shell.execute_reply": "2023-06-03T14:49:23.981864Z"
        },
        "trusted": true
      },
      "execution_count": null,
      "outputs": []
    },
    {
      "cell_type": "code",
      "source": [
        "df.head()"
      ],
      "metadata": {
        "colab": {
          "base_uri": "https://localhost:8080/",
          "height": 267
        },
        "id": "9qNEgD6qpXcx",
        "outputId": "5f58d358-0821-46ef-c21f-bc1f003575c5",
        "execution": {
          "iopub.status.busy": "2023-06-03T14:49:23.983862Z",
          "iopub.execute_input": "2023-06-03T14:49:23.984328Z",
          "iopub.status.idle": "2023-06-03T14:49:24.012518Z",
          "shell.execute_reply.started": "2023-06-03T14:49:23.984305Z",
          "shell.execute_reply": "2023-06-03T14:49:24.011904Z"
        },
        "trusted": true
      },
      "execution_count": null,
      "outputs": [
        {
          "execution_count": 40,
          "output_type": "execute_result",
          "data": {
            "text/plain": "   Age Gender Polyuria Polydipsia sudden weight loss weakness Polyphagia  \\\n0   40   Male       No        Yes                 No      Yes         No   \n1   58   Male       No         No                 No      Yes         No   \n2   41   Male      Yes         No                 No      Yes        Yes   \n3   45   Male       No         No                Yes      Yes        Yes   \n4   60   Male      Yes        Yes                Yes      Yes        Yes   \n\n  Genital thrush visual blurring Itching Irritability delayed healing  \\\n0             No              No     Yes           No             Yes   \n1             No             Yes      No           No              No   \n2             No              No     Yes           No             Yes   \n3            Yes              No     Yes           No             Yes   \n4             No             Yes     Yes          Yes             Yes   \n\n  partial paresis muscle stiffness Alopecia Obesity     class  \n0              No              Yes      Yes     Yes  Positive  \n1             Yes               No      Yes      No  Positive  \n2              No              Yes      Yes      No  Positive  \n3              No               No       No      No  Positive  \n4             Yes              Yes      Yes     Yes  Positive  ",
            "text/html": "<div>\n<style scoped>\n    .dataframe tbody tr th:only-of-type {\n        vertical-align: middle;\n    }\n\n    .dataframe tbody tr th {\n        vertical-align: top;\n    }\n\n    .dataframe thead th {\n        text-align: right;\n    }\n</style>\n<table border=\"1\" class=\"dataframe\">\n  <thead>\n    <tr style=\"text-align: right;\">\n      <th></th>\n      <th>Age</th>\n      <th>Gender</th>\n      <th>Polyuria</th>\n      <th>Polydipsia</th>\n      <th>sudden weight loss</th>\n      <th>weakness</th>\n      <th>Polyphagia</th>\n      <th>Genital thrush</th>\n      <th>visual blurring</th>\n      <th>Itching</th>\n      <th>Irritability</th>\n      <th>delayed healing</th>\n      <th>partial paresis</th>\n      <th>muscle stiffness</th>\n      <th>Alopecia</th>\n      <th>Obesity</th>\n      <th>class</th>\n    </tr>\n  </thead>\n  <tbody>\n    <tr>\n      <th>0</th>\n      <td>40</td>\n      <td>Male</td>\n      <td>No</td>\n      <td>Yes</td>\n      <td>No</td>\n      <td>Yes</td>\n      <td>No</td>\n      <td>No</td>\n      <td>No</td>\n      <td>Yes</td>\n      <td>No</td>\n      <td>Yes</td>\n      <td>No</td>\n      <td>Yes</td>\n      <td>Yes</td>\n      <td>Yes</td>\n      <td>Positive</td>\n    </tr>\n    <tr>\n      <th>1</th>\n      <td>58</td>\n      <td>Male</td>\n      <td>No</td>\n      <td>No</td>\n      <td>No</td>\n      <td>Yes</td>\n      <td>No</td>\n      <td>No</td>\n      <td>Yes</td>\n      <td>No</td>\n      <td>No</td>\n      <td>No</td>\n      <td>Yes</td>\n      <td>No</td>\n      <td>Yes</td>\n      <td>No</td>\n      <td>Positive</td>\n    </tr>\n    <tr>\n      <th>2</th>\n      <td>41</td>\n      <td>Male</td>\n      <td>Yes</td>\n      <td>No</td>\n      <td>No</td>\n      <td>Yes</td>\n      <td>Yes</td>\n      <td>No</td>\n      <td>No</td>\n      <td>Yes</td>\n      <td>No</td>\n      <td>Yes</td>\n      <td>No</td>\n      <td>Yes</td>\n      <td>Yes</td>\n      <td>No</td>\n      <td>Positive</td>\n    </tr>\n    <tr>\n      <th>3</th>\n      <td>45</td>\n      <td>Male</td>\n      <td>No</td>\n      <td>No</td>\n      <td>Yes</td>\n      <td>Yes</td>\n      <td>Yes</td>\n      <td>Yes</td>\n      <td>No</td>\n      <td>Yes</td>\n      <td>No</td>\n      <td>Yes</td>\n      <td>No</td>\n      <td>No</td>\n      <td>No</td>\n      <td>No</td>\n      <td>Positive</td>\n    </tr>\n    <tr>\n      <th>4</th>\n      <td>60</td>\n      <td>Male</td>\n      <td>Yes</td>\n      <td>Yes</td>\n      <td>Yes</td>\n      <td>Yes</td>\n      <td>Yes</td>\n      <td>No</td>\n      <td>Yes</td>\n      <td>Yes</td>\n      <td>Yes</td>\n      <td>Yes</td>\n      <td>Yes</td>\n      <td>Yes</td>\n      <td>Yes</td>\n      <td>Yes</td>\n      <td>Positive</td>\n    </tr>\n  </tbody>\n</table>\n</div>"
          },
          "metadata": {}
        }
      ]
    },
    {
      "cell_type": "code",
      "source": [
        "df.tail()"
      ],
      "metadata": {
        "colab": {
          "base_uri": "https://localhost:8080/",
          "height": 206
        },
        "id": "jC38_j_kp34o",
        "outputId": "d9b16ca4-5a4a-44a6-a7e7-f5bbbb08fcae",
        "execution": {
          "iopub.status.busy": "2023-06-03T14:49:24.013603Z",
          "iopub.execute_input": "2023-06-03T14:49:24.013993Z",
          "iopub.status.idle": "2023-06-03T14:49:24.035463Z",
          "shell.execute_reply.started": "2023-06-03T14:49:24.013969Z",
          "shell.execute_reply": "2023-06-03T14:49:24.034008Z"
        },
        "trusted": true
      },
      "execution_count": null,
      "outputs": [
        {
          "execution_count": 41,
          "output_type": "execute_result",
          "data": {
            "text/plain": "     Age  Gender Polyuria Polydipsia sudden weight loss weakness Polyphagia  \\\n515   39  Female      Yes        Yes                Yes       No        Yes   \n516   48  Female      Yes        Yes                Yes      Yes        Yes   \n517   58  Female      Yes        Yes                Yes      Yes        Yes   \n518   32  Female       No         No                 No      Yes         No   \n519   42    Male       No         No                 No       No         No   \n\n    Genital thrush visual blurring Itching Irritability delayed healing  \\\n515             No              No     Yes           No             Yes   \n516             No              No     Yes          Yes             Yes   \n517             No             Yes      No           No              No   \n518             No             Yes     Yes           No             Yes   \n519             No              No      No           No              No   \n\n    partial paresis muscle stiffness Alopecia Obesity     class  \n515             Yes               No       No      No  Positive  \n516             Yes               No       No      No  Positive  \n517             Yes              Yes       No     Yes  Positive  \n518              No               No      Yes      No  Negative  \n519              No               No       No      No  Negative  ",
            "text/html": "<div>\n<style scoped>\n    .dataframe tbody tr th:only-of-type {\n        vertical-align: middle;\n    }\n\n    .dataframe tbody tr th {\n        vertical-align: top;\n    }\n\n    .dataframe thead th {\n        text-align: right;\n    }\n</style>\n<table border=\"1\" class=\"dataframe\">\n  <thead>\n    <tr style=\"text-align: right;\">\n      <th></th>\n      <th>Age</th>\n      <th>Gender</th>\n      <th>Polyuria</th>\n      <th>Polydipsia</th>\n      <th>sudden weight loss</th>\n      <th>weakness</th>\n      <th>Polyphagia</th>\n      <th>Genital thrush</th>\n      <th>visual blurring</th>\n      <th>Itching</th>\n      <th>Irritability</th>\n      <th>delayed healing</th>\n      <th>partial paresis</th>\n      <th>muscle stiffness</th>\n      <th>Alopecia</th>\n      <th>Obesity</th>\n      <th>class</th>\n    </tr>\n  </thead>\n  <tbody>\n    <tr>\n      <th>515</th>\n      <td>39</td>\n      <td>Female</td>\n      <td>Yes</td>\n      <td>Yes</td>\n      <td>Yes</td>\n      <td>No</td>\n      <td>Yes</td>\n      <td>No</td>\n      <td>No</td>\n      <td>Yes</td>\n      <td>No</td>\n      <td>Yes</td>\n      <td>Yes</td>\n      <td>No</td>\n      <td>No</td>\n      <td>No</td>\n      <td>Positive</td>\n    </tr>\n    <tr>\n      <th>516</th>\n      <td>48</td>\n      <td>Female</td>\n      <td>Yes</td>\n      <td>Yes</td>\n      <td>Yes</td>\n      <td>Yes</td>\n      <td>Yes</td>\n      <td>No</td>\n      <td>No</td>\n      <td>Yes</td>\n      <td>Yes</td>\n      <td>Yes</td>\n      <td>Yes</td>\n      <td>No</td>\n      <td>No</td>\n      <td>No</td>\n      <td>Positive</td>\n    </tr>\n    <tr>\n      <th>517</th>\n      <td>58</td>\n      <td>Female</td>\n      <td>Yes</td>\n      <td>Yes</td>\n      <td>Yes</td>\n      <td>Yes</td>\n      <td>Yes</td>\n      <td>No</td>\n      <td>Yes</td>\n      <td>No</td>\n      <td>No</td>\n      <td>No</td>\n      <td>Yes</td>\n      <td>Yes</td>\n      <td>No</td>\n      <td>Yes</td>\n      <td>Positive</td>\n    </tr>\n    <tr>\n      <th>518</th>\n      <td>32</td>\n      <td>Female</td>\n      <td>No</td>\n      <td>No</td>\n      <td>No</td>\n      <td>Yes</td>\n      <td>No</td>\n      <td>No</td>\n      <td>Yes</td>\n      <td>Yes</td>\n      <td>No</td>\n      <td>Yes</td>\n      <td>No</td>\n      <td>No</td>\n      <td>Yes</td>\n      <td>No</td>\n      <td>Negative</td>\n    </tr>\n    <tr>\n      <th>519</th>\n      <td>42</td>\n      <td>Male</td>\n      <td>No</td>\n      <td>No</td>\n      <td>No</td>\n      <td>No</td>\n      <td>No</td>\n      <td>No</td>\n      <td>No</td>\n      <td>No</td>\n      <td>No</td>\n      <td>No</td>\n      <td>No</td>\n      <td>No</td>\n      <td>No</td>\n      <td>No</td>\n      <td>Negative</td>\n    </tr>\n  </tbody>\n</table>\n</div>"
          },
          "metadata": {}
        }
      ]
    },
    {
      "cell_type": "code",
      "source": [
        "df.sample(10)"
      ],
      "metadata": {
        "colab": {
          "base_uri": "https://localhost:8080/",
          "height": 363
        },
        "id": "28HrEHikp9e9",
        "outputId": "03a13482-2447-4307-ae25-6b74bd990755",
        "execution": {
          "iopub.status.busy": "2023-06-03T14:49:24.037909Z",
          "iopub.execute_input": "2023-06-03T14:49:24.038844Z",
          "iopub.status.idle": "2023-06-03T14:49:24.062520Z",
          "shell.execute_reply.started": "2023-06-03T14:49:24.038814Z",
          "shell.execute_reply": "2023-06-03T14:49:24.061179Z"
        },
        "trusted": true
      },
      "execution_count": null,
      "outputs": [
        {
          "execution_count": 42,
          "output_type": "execute_result",
          "data": {
            "text/plain": "     Age  Gender Polyuria Polydipsia sudden weight loss weakness Polyphagia  \\\n113   79    Male       No        Yes                Yes      Yes        Yes   \n294   42    Male       No         No                 No       No         No   \n289   40    Male       No         No                Yes       No         No   \n112   68  Female      Yes        Yes                Yes       No        Yes   \n387   36    Male       No         No                 No       No         No   \n167   41    Male      Yes        Yes                Yes      Yes        Yes   \n329   56    Male       No         No                Yes      Yes        Yes   \n21    54    Male      Yes        Yes                Yes      Yes        Yes   \n506   61    Male       No         No                 No      Yes         No   \n463   72    Male      Yes         No                 No       No        Yes   \n\n    Genital thrush visual blurring Itching Irritability delayed healing  \\\n113            Yes              No     Yes          Yes              No   \n294             No              No      No           No              No   \n289             No              No      No           No              No   \n112            Yes             Yes      No          Yes             Yes   \n387             No              No      No           No              No   \n167            Yes             Yes     Yes          Yes              No   \n329             No             Yes     Yes           No             Yes   \n21             Yes             Yes     Yes           No             Yes   \n506            Yes              No     Yes           No             Yes   \n463             No             Yes     Yes           No             Yes   \n\n    partial paresis muscle stiffness Alopecia Obesity     class  \n113             Yes               No       No      No  Positive  \n294              No               No      Yes      No  Negative  \n289              No               No       No     Yes  Negative  \n112              No              Yes      Yes      No  Positive  \n387              No               No       No      No  Negative  \n167              No               No       No     Yes  Positive  \n329              No              Yes      Yes      No  Negative  \n21               No              Yes      Yes      No  Positive  \n506              No               No      Yes      No  Negative  \n463             Yes              Yes      Yes      No  Negative  ",
            "text/html": "<div>\n<style scoped>\n    .dataframe tbody tr th:only-of-type {\n        vertical-align: middle;\n    }\n\n    .dataframe tbody tr th {\n        vertical-align: top;\n    }\n\n    .dataframe thead th {\n        text-align: right;\n    }\n</style>\n<table border=\"1\" class=\"dataframe\">\n  <thead>\n    <tr style=\"text-align: right;\">\n      <th></th>\n      <th>Age</th>\n      <th>Gender</th>\n      <th>Polyuria</th>\n      <th>Polydipsia</th>\n      <th>sudden weight loss</th>\n      <th>weakness</th>\n      <th>Polyphagia</th>\n      <th>Genital thrush</th>\n      <th>visual blurring</th>\n      <th>Itching</th>\n      <th>Irritability</th>\n      <th>delayed healing</th>\n      <th>partial paresis</th>\n      <th>muscle stiffness</th>\n      <th>Alopecia</th>\n      <th>Obesity</th>\n      <th>class</th>\n    </tr>\n  </thead>\n  <tbody>\n    <tr>\n      <th>113</th>\n      <td>79</td>\n      <td>Male</td>\n      <td>No</td>\n      <td>Yes</td>\n      <td>Yes</td>\n      <td>Yes</td>\n      <td>Yes</td>\n      <td>Yes</td>\n      <td>No</td>\n      <td>Yes</td>\n      <td>Yes</td>\n      <td>No</td>\n      <td>Yes</td>\n      <td>No</td>\n      <td>No</td>\n      <td>No</td>\n      <td>Positive</td>\n    </tr>\n    <tr>\n      <th>294</th>\n      <td>42</td>\n      <td>Male</td>\n      <td>No</td>\n      <td>No</td>\n      <td>No</td>\n      <td>No</td>\n      <td>No</td>\n      <td>No</td>\n      <td>No</td>\n      <td>No</td>\n      <td>No</td>\n      <td>No</td>\n      <td>No</td>\n      <td>No</td>\n      <td>Yes</td>\n      <td>No</td>\n      <td>Negative</td>\n    </tr>\n    <tr>\n      <th>289</th>\n      <td>40</td>\n      <td>Male</td>\n      <td>No</td>\n      <td>No</td>\n      <td>Yes</td>\n      <td>No</td>\n      <td>No</td>\n      <td>No</td>\n      <td>No</td>\n      <td>No</td>\n      <td>No</td>\n      <td>No</td>\n      <td>No</td>\n      <td>No</td>\n      <td>No</td>\n      <td>Yes</td>\n      <td>Negative</td>\n    </tr>\n    <tr>\n      <th>112</th>\n      <td>68</td>\n      <td>Female</td>\n      <td>Yes</td>\n      <td>Yes</td>\n      <td>Yes</td>\n      <td>No</td>\n      <td>Yes</td>\n      <td>Yes</td>\n      <td>Yes</td>\n      <td>No</td>\n      <td>Yes</td>\n      <td>Yes</td>\n      <td>No</td>\n      <td>Yes</td>\n      <td>Yes</td>\n      <td>No</td>\n      <td>Positive</td>\n    </tr>\n    <tr>\n      <th>387</th>\n      <td>36</td>\n      <td>Male</td>\n      <td>No</td>\n      <td>No</td>\n      <td>No</td>\n      <td>No</td>\n      <td>No</td>\n      <td>No</td>\n      <td>No</td>\n      <td>No</td>\n      <td>No</td>\n      <td>No</td>\n      <td>No</td>\n      <td>No</td>\n      <td>No</td>\n      <td>No</td>\n      <td>Negative</td>\n    </tr>\n    <tr>\n      <th>167</th>\n      <td>41</td>\n      <td>Male</td>\n      <td>Yes</td>\n      <td>Yes</td>\n      <td>Yes</td>\n      <td>Yes</td>\n      <td>Yes</td>\n      <td>Yes</td>\n      <td>Yes</td>\n      <td>Yes</td>\n      <td>Yes</td>\n      <td>No</td>\n      <td>No</td>\n      <td>No</td>\n      <td>No</td>\n      <td>Yes</td>\n      <td>Positive</td>\n    </tr>\n    <tr>\n      <th>329</th>\n      <td>56</td>\n      <td>Male</td>\n      <td>No</td>\n      <td>No</td>\n      <td>Yes</td>\n      <td>Yes</td>\n      <td>Yes</td>\n      <td>No</td>\n      <td>Yes</td>\n      <td>Yes</td>\n      <td>No</td>\n      <td>Yes</td>\n      <td>No</td>\n      <td>Yes</td>\n      <td>Yes</td>\n      <td>No</td>\n      <td>Negative</td>\n    </tr>\n    <tr>\n      <th>21</th>\n      <td>54</td>\n      <td>Male</td>\n      <td>Yes</td>\n      <td>Yes</td>\n      <td>Yes</td>\n      <td>Yes</td>\n      <td>Yes</td>\n      <td>Yes</td>\n      <td>Yes</td>\n      <td>Yes</td>\n      <td>No</td>\n      <td>Yes</td>\n      <td>No</td>\n      <td>Yes</td>\n      <td>Yes</td>\n      <td>No</td>\n      <td>Positive</td>\n    </tr>\n    <tr>\n      <th>506</th>\n      <td>61</td>\n      <td>Male</td>\n      <td>No</td>\n      <td>No</td>\n      <td>No</td>\n      <td>Yes</td>\n      <td>No</td>\n      <td>Yes</td>\n      <td>No</td>\n      <td>Yes</td>\n      <td>No</td>\n      <td>Yes</td>\n      <td>No</td>\n      <td>No</td>\n      <td>Yes</td>\n      <td>No</td>\n      <td>Negative</td>\n    </tr>\n    <tr>\n      <th>463</th>\n      <td>72</td>\n      <td>Male</td>\n      <td>Yes</td>\n      <td>No</td>\n      <td>No</td>\n      <td>No</td>\n      <td>Yes</td>\n      <td>No</td>\n      <td>Yes</td>\n      <td>Yes</td>\n      <td>No</td>\n      <td>Yes</td>\n      <td>Yes</td>\n      <td>Yes</td>\n      <td>Yes</td>\n      <td>No</td>\n      <td>Negative</td>\n    </tr>\n  </tbody>\n</table>\n</div>"
          },
          "metadata": {}
        }
      ]
    },
    {
      "cell_type": "code",
      "source": [
        "original_features_count = df.columns"
      ],
      "metadata": {
        "id": "96vZf78NqCCO",
        "execution": {
          "iopub.status.busy": "2023-06-03T14:49:24.064035Z",
          "iopub.execute_input": "2023-06-03T14:49:24.064323Z",
          "iopub.status.idle": "2023-06-03T14:49:24.069457Z",
          "shell.execute_reply.started": "2023-06-03T14:49:24.064299Z",
          "shell.execute_reply": "2023-06-03T14:49:24.068531Z"
        },
        "trusted": true
      },
      "execution_count": null,
      "outputs": []
    },
    {
      "cell_type": "code",
      "source": [
        "row_count = df.shape[0]"
      ],
      "metadata": {
        "id": "FQeY5bk2qJgl",
        "execution": {
          "iopub.status.busy": "2023-06-03T14:49:24.070435Z",
          "iopub.execute_input": "2023-06-03T14:49:24.070920Z",
          "iopub.status.idle": "2023-06-03T14:49:24.082214Z",
          "shell.execute_reply.started": "2023-06-03T14:49:24.070896Z",
          "shell.execute_reply": "2023-06-03T14:49:24.081207Z"
        },
        "trusted": true
      },
      "execution_count": null,
      "outputs": []
    },
    {
      "cell_type": "code",
      "source": [
        "print('Original Features count:', len(original_features_count))\n",
        "print('List of the original features: ', original_features_count)\n",
        "print('Number of rows: ', row_count)"
      ],
      "metadata": {
        "colab": {
          "base_uri": "https://localhost:8080/"
        },
        "id": "cOjlRb_rqMp8",
        "outputId": "f93b6d19-6986-4ffd-c435-0dde37d9126f",
        "execution": {
          "iopub.status.busy": "2023-06-03T14:49:24.083694Z",
          "iopub.execute_input": "2023-06-03T14:49:24.084247Z",
          "iopub.status.idle": "2023-06-03T14:49:24.096741Z",
          "shell.execute_reply.started": "2023-06-03T14:49:24.084201Z",
          "shell.execute_reply": "2023-06-03T14:49:24.095178Z"
        },
        "trusted": true
      },
      "execution_count": null,
      "outputs": [
        {
          "name": "stdout",
          "text": "Original Features count: 17\nList of the original features:  Index(['Age', 'Gender', 'Polyuria', 'Polydipsia', 'sudden weight loss',\n       'weakness', 'Polyphagia', 'Genital thrush', 'visual blurring',\n       'Itching', 'Irritability', 'delayed healing', 'partial paresis',\n       'muscle stiffness', 'Alopecia', 'Obesity', 'class'],\n      dtype='object')\nNumber of rows:  520\n",
          "output_type": "stream"
        }
      ]
    },
    {
      "cell_type": "code",
      "source": [
        "df.isnull().sum()"
      ],
      "metadata": {
        "colab": {
          "base_uri": "https://localhost:8080/"
        },
        "id": "3rCFo5uh3NuZ",
        "outputId": "f54bc400-24e7-4375-b860-d7bdc341a525",
        "execution": {
          "iopub.status.busy": "2023-06-03T14:49:24.098080Z",
          "iopub.execute_input": "2023-06-03T14:49:24.098642Z",
          "iopub.status.idle": "2023-06-03T14:49:24.112511Z",
          "shell.execute_reply.started": "2023-06-03T14:49:24.098611Z",
          "shell.execute_reply": "2023-06-03T14:49:24.111309Z"
        },
        "trusted": true
      },
      "execution_count": null,
      "outputs": [
        {
          "execution_count": 46,
          "output_type": "execute_result",
          "data": {
            "text/plain": "Age                   0\nGender                0\nPolyuria              0\nPolydipsia            0\nsudden weight loss    0\nweakness              0\nPolyphagia            0\nGenital thrush        0\nvisual blurring       0\nItching               0\nIrritability          0\ndelayed healing       0\npartial paresis       0\nmuscle stiffness      0\nAlopecia              0\nObesity               0\nclass                 0\ndtype: int64"
          },
          "metadata": {}
        }
      ]
    },
    {
      "cell_type": "markdown",
      "source": [
        "# **Normalization**"
      ],
      "metadata": {
        "id": "uiufVf431_tY"
      }
    },
    {
      "cell_type": "code",
      "source": [
        "from sklearn import preprocessing\n",
        "\n",
        "label_encoder = preprocessing.LabelEncoder()\n",
        "\n",
        "for column in df.columns[1:]:\n",
        "    df[column]= label_encoder.fit_transform(df[column])"
      ],
      "metadata": {
        "id": "-v5kT9431_Fe",
        "execution": {
          "iopub.status.busy": "2023-06-03T14:49:24.113689Z",
          "iopub.execute_input": "2023-06-03T14:49:24.114323Z",
          "iopub.status.idle": "2023-06-03T14:49:24.129305Z",
          "shell.execute_reply.started": "2023-06-03T14:49:24.114139Z",
          "shell.execute_reply": "2023-06-03T14:49:24.128065Z"
        },
        "trusted": true
      },
      "execution_count": null,
      "outputs": []
    },
    {
      "cell_type": "code",
      "source": [
        "df.head(10)"
      ],
      "metadata": {
        "colab": {
          "base_uri": "https://localhost:8080/",
          "height": 424
        },
        "id": "bVgvIvne5JHX",
        "outputId": "916ec976-6ee4-438d-9f7f-b0fc759c734c",
        "execution": {
          "iopub.status.busy": "2023-06-03T14:49:24.131111Z",
          "iopub.execute_input": "2023-06-03T14:49:24.131471Z",
          "iopub.status.idle": "2023-06-03T14:49:24.146361Z",
          "shell.execute_reply.started": "2023-06-03T14:49:24.131445Z",
          "shell.execute_reply": "2023-06-03T14:49:24.145664Z"
        },
        "trusted": true
      },
      "execution_count": null,
      "outputs": [
        {
          "execution_count": 48,
          "output_type": "execute_result",
          "data": {
            "text/plain": "   Age  Gender  Polyuria  Polydipsia  sudden weight loss  weakness  \\\n0   40       1         0           1                   0         1   \n1   58       1         0           0                   0         1   \n2   41       1         1           0                   0         1   \n3   45       1         0           0                   1         1   \n4   60       1         1           1                   1         1   \n5   55       1         1           1                   0         1   \n6   57       1         1           1                   0         1   \n7   66       1         1           1                   1         1   \n8   67       1         1           1                   0         1   \n9   70       1         0           1                   1         1   \n\n   Polyphagia  Genital thrush  visual blurring  Itching  Irritability  \\\n0           0               0                0        1             0   \n1           0               0                1        0             0   \n2           1               0                0        1             0   \n3           1               1                0        1             0   \n4           1               0                1        1             1   \n5           1               0                1        1             0   \n6           1               1                0        0             0   \n7           0               0                1        1             1   \n8           1               1                0        1             1   \n9           1               0                1        1             1   \n\n   delayed healing  partial paresis  muscle stiffness  Alopecia  Obesity  \\\n0                1                0                 1         1        1   \n1                0                1                 0         1        0   \n2                1                0                 1         1        0   \n3                1                0                 0         0        0   \n4                1                1                 1         1        1   \n5                1                0                 1         1        1   \n6                1                1                 0         0        0   \n7                0                1                 1         0        0   \n8                0                1                 1         0        1   \n9                0                0                 0         1        0   \n\n   class  \n0      1  \n1      1  \n2      1  \n3      1  \n4      1  \n5      1  \n6      1  \n7      1  \n8      1  \n9      1  ",
            "text/html": "<div>\n<style scoped>\n    .dataframe tbody tr th:only-of-type {\n        vertical-align: middle;\n    }\n\n    .dataframe tbody tr th {\n        vertical-align: top;\n    }\n\n    .dataframe thead th {\n        text-align: right;\n    }\n</style>\n<table border=\"1\" class=\"dataframe\">\n  <thead>\n    <tr style=\"text-align: right;\">\n      <th></th>\n      <th>Age</th>\n      <th>Gender</th>\n      <th>Polyuria</th>\n      <th>Polydipsia</th>\n      <th>sudden weight loss</th>\n      <th>weakness</th>\n      <th>Polyphagia</th>\n      <th>Genital thrush</th>\n      <th>visual blurring</th>\n      <th>Itching</th>\n      <th>Irritability</th>\n      <th>delayed healing</th>\n      <th>partial paresis</th>\n      <th>muscle stiffness</th>\n      <th>Alopecia</th>\n      <th>Obesity</th>\n      <th>class</th>\n    </tr>\n  </thead>\n  <tbody>\n    <tr>\n      <th>0</th>\n      <td>40</td>\n      <td>1</td>\n      <td>0</td>\n      <td>1</td>\n      <td>0</td>\n      <td>1</td>\n      <td>0</td>\n      <td>0</td>\n      <td>0</td>\n      <td>1</td>\n      <td>0</td>\n      <td>1</td>\n      <td>0</td>\n      <td>1</td>\n      <td>1</td>\n      <td>1</td>\n      <td>1</td>\n    </tr>\n    <tr>\n      <th>1</th>\n      <td>58</td>\n      <td>1</td>\n      <td>0</td>\n      <td>0</td>\n      <td>0</td>\n      <td>1</td>\n      <td>0</td>\n      <td>0</td>\n      <td>1</td>\n      <td>0</td>\n      <td>0</td>\n      <td>0</td>\n      <td>1</td>\n      <td>0</td>\n      <td>1</td>\n      <td>0</td>\n      <td>1</td>\n    </tr>\n    <tr>\n      <th>2</th>\n      <td>41</td>\n      <td>1</td>\n      <td>1</td>\n      <td>0</td>\n      <td>0</td>\n      <td>1</td>\n      <td>1</td>\n      <td>0</td>\n      <td>0</td>\n      <td>1</td>\n      <td>0</td>\n      <td>1</td>\n      <td>0</td>\n      <td>1</td>\n      <td>1</td>\n      <td>0</td>\n      <td>1</td>\n    </tr>\n    <tr>\n      <th>3</th>\n      <td>45</td>\n      <td>1</td>\n      <td>0</td>\n      <td>0</td>\n      <td>1</td>\n      <td>1</td>\n      <td>1</td>\n      <td>1</td>\n      <td>0</td>\n      <td>1</td>\n      <td>0</td>\n      <td>1</td>\n      <td>0</td>\n      <td>0</td>\n      <td>0</td>\n      <td>0</td>\n      <td>1</td>\n    </tr>\n    <tr>\n      <th>4</th>\n      <td>60</td>\n      <td>1</td>\n      <td>1</td>\n      <td>1</td>\n      <td>1</td>\n      <td>1</td>\n      <td>1</td>\n      <td>0</td>\n      <td>1</td>\n      <td>1</td>\n      <td>1</td>\n      <td>1</td>\n      <td>1</td>\n      <td>1</td>\n      <td>1</td>\n      <td>1</td>\n      <td>1</td>\n    </tr>\n    <tr>\n      <th>5</th>\n      <td>55</td>\n      <td>1</td>\n      <td>1</td>\n      <td>1</td>\n      <td>0</td>\n      <td>1</td>\n      <td>1</td>\n      <td>0</td>\n      <td>1</td>\n      <td>1</td>\n      <td>0</td>\n      <td>1</td>\n      <td>0</td>\n      <td>1</td>\n      <td>1</td>\n      <td>1</td>\n      <td>1</td>\n    </tr>\n    <tr>\n      <th>6</th>\n      <td>57</td>\n      <td>1</td>\n      <td>1</td>\n      <td>1</td>\n      <td>0</td>\n      <td>1</td>\n      <td>1</td>\n      <td>1</td>\n      <td>0</td>\n      <td>0</td>\n      <td>0</td>\n      <td>1</td>\n      <td>1</td>\n      <td>0</td>\n      <td>0</td>\n      <td>0</td>\n      <td>1</td>\n    </tr>\n    <tr>\n      <th>7</th>\n      <td>66</td>\n      <td>1</td>\n      <td>1</td>\n      <td>1</td>\n      <td>1</td>\n      <td>1</td>\n      <td>0</td>\n      <td>0</td>\n      <td>1</td>\n      <td>1</td>\n      <td>1</td>\n      <td>0</td>\n      <td>1</td>\n      <td>1</td>\n      <td>0</td>\n      <td>0</td>\n      <td>1</td>\n    </tr>\n    <tr>\n      <th>8</th>\n      <td>67</td>\n      <td>1</td>\n      <td>1</td>\n      <td>1</td>\n      <td>0</td>\n      <td>1</td>\n      <td>1</td>\n      <td>1</td>\n      <td>0</td>\n      <td>1</td>\n      <td>1</td>\n      <td>0</td>\n      <td>1</td>\n      <td>1</td>\n      <td>0</td>\n      <td>1</td>\n      <td>1</td>\n    </tr>\n    <tr>\n      <th>9</th>\n      <td>70</td>\n      <td>1</td>\n      <td>0</td>\n      <td>1</td>\n      <td>1</td>\n      <td>1</td>\n      <td>1</td>\n      <td>0</td>\n      <td>1</td>\n      <td>1</td>\n      <td>1</td>\n      <td>0</td>\n      <td>0</td>\n      <td>0</td>\n      <td>1</td>\n      <td>0</td>\n      <td>1</td>\n    </tr>\n  </tbody>\n</table>\n</div>"
          },
          "metadata": {}
        }
      ]
    },
    {
      "cell_type": "code",
      "source": [
        "ages = df['Age']"
      ],
      "metadata": {
        "id": "ImZbaCUX3bEI",
        "execution": {
          "iopub.status.busy": "2023-06-03T14:49:24.773459Z",
          "iopub.execute_input": "2023-06-03T14:49:24.774748Z",
          "iopub.status.idle": "2023-06-03T14:49:24.779526Z",
          "shell.execute_reply.started": "2023-06-03T14:49:24.774709Z",
          "shell.execute_reply": "2023-06-03T14:49:24.778188Z"
        },
        "trusted": true
      },
      "execution_count": null,
      "outputs": []
    },
    {
      "cell_type": "code",
      "source": [
        "df['Age'] = (ages - np.min(ages))/(np.max(ages)-np.min(ages))\n",
        "df['Age'].head(12)"
      ],
      "metadata": {
        "colab": {
          "base_uri": "https://localhost:8080/"
        },
        "id": "q_U0i2Bs5UMn",
        "outputId": "290eba6e-aee8-4661-c841-52c2aaa1d31c",
        "execution": {
          "iopub.status.busy": "2023-06-03T14:49:24.780545Z",
          "iopub.execute_input": "2023-06-03T14:49:24.780881Z",
          "iopub.status.idle": "2023-06-03T14:49:24.796638Z",
          "shell.execute_reply.started": "2023-06-03T14:49:24.780857Z",
          "shell.execute_reply": "2023-06-03T14:49:24.795842Z"
        },
        "trusted": true
      },
      "execution_count": null,
      "outputs": [
        {
          "execution_count": 52,
          "output_type": "execute_result",
          "data": {
            "text/plain": "0     0.324324\n1     0.567568\n2     0.337838\n3     0.391892\n4     0.594595\n5     0.527027\n6     0.554054\n7     0.675676\n8     0.689189\n9     0.729730\n10    0.378378\n11    0.297297\nName: Age, dtype: float64"
          },
          "metadata": {}
        }
      ]
    },
    {
      "cell_type": "code",
      "source": [
        "X = df.iloc[:, :-1]\n",
        "y = df.iloc[:, -1]"
      ],
      "metadata": {
        "id": "fwGaVvwP5WvZ",
        "execution": {
          "iopub.status.busy": "2023-06-03T14:49:24.798047Z",
          "iopub.execute_input": "2023-06-03T14:49:24.798409Z",
          "iopub.status.idle": "2023-06-03T14:49:24.811354Z",
          "shell.execute_reply.started": "2023-06-03T14:49:24.798380Z",
          "shell.execute_reply": "2023-06-03T14:49:24.809942Z"
        },
        "trusted": true
      },
      "execution_count": null,
      "outputs": []
    },
    {
      "cell_type": "code",
      "source": [
        "X.columns"
      ],
      "metadata": {
        "colab": {
          "base_uri": "https://localhost:8080/"
        },
        "id": "dVfy1LTn5Y09",
        "outputId": "c35dafa0-f8b7-4bf4-b255-68a1d4d2e28e",
        "execution": {
          "iopub.status.busy": "2023-06-03T14:49:24.812377Z",
          "iopub.execute_input": "2023-06-03T14:49:24.812678Z",
          "iopub.status.idle": "2023-06-03T14:49:24.826272Z",
          "shell.execute_reply.started": "2023-06-03T14:49:24.812651Z",
          "shell.execute_reply": "2023-06-03T14:49:24.825509Z"
        },
        "trusted": true
      },
      "execution_count": null,
      "outputs": [
        {
          "execution_count": 54,
          "output_type": "execute_result",
          "data": {
            "text/plain": "Index(['Age', 'Gender', 'Polyuria', 'Polydipsia', 'sudden weight loss',\n       'weakness', 'Polyphagia', 'Genital thrush', 'visual blurring',\n       'Itching', 'Irritability', 'delayed healing', 'partial paresis',\n       'muscle stiffness', 'Alopecia', 'Obesity'],\n      dtype='object')"
          },
          "metadata": {}
        }
      ]
    },
    {
      "cell_type": "markdown",
      "source": [
        "# **Data Splitting**"
      ],
      "metadata": {
        "id": "RsS8PExF3VaG"
      }
    },
    {
      "cell_type": "code",
      "source": [
        "X_train, X_test, y_train, y_test = train_test_split(X, y, test_size=0.22, random_state=0)"
      ],
      "metadata": {
        "id": "X4Jfcryj3gex",
        "execution": {
          "iopub.status.busy": "2023-06-03T14:49:24.827204Z",
          "iopub.execute_input": "2023-06-03T14:49:24.828154Z",
          "iopub.status.idle": "2023-06-03T14:49:24.839901Z",
          "shell.execute_reply.started": "2023-06-03T14:49:24.828109Z",
          "shell.execute_reply": "2023-06-03T14:49:24.838443Z"
        },
        "trusted": true
      },
      "execution_count": null,
      "outputs": []
    },
    {
      "cell_type": "markdown",
      "source": [
        "# **Data Modeling**"
      ],
      "metadata": {
        "id": "Fg64keQi3uSS"
      }
    },
    {
      "cell_type": "markdown",
      "source": [
        "# **Bagging-SVM**"
      ],
      "metadata": {
        "id": "TCs3gh9HlA9w"
      }
    },
    {
      "cell_type": "code",
      "source": [
        "from sklearn.svm import SVC\n",
        "from sklearn.ensemble import BaggingClassifier\n",
        "svm=SVC(kernel='rbf',probability=True)\n",
        "\n",
        "bagging_svm = BaggingClassifier(estimator=svm, n_estimators=100, random_state=42)\n",
        "bagging_svm.fit(X_train, y_train)\n",
        "\n",
        "sv_train = bagging_svm.predict(X_train)\n",
        "sv_pred = bagging_svm.predict(X_test)\n",
        "\n",
        "trainsvm_acc = accuracy_score(sv_train, y_train)\n",
        "svm_acc = accuracy_score(sv_pred, y_test)\n",
        "print('Akurasi pada data latih : ', trainsvm_acc)\n",
        "print('Akurasi pada data uji : ', svm_acc)"
      ],
      "metadata": {
        "colab": {
          "base_uri": "https://localhost:8080/"
        },
        "id": "bfT_Sh3Yu0Ze",
        "outputId": "36a2851b-19aa-4954-a1cf-c79a0912e679",
        "execution": {
          "iopub.status.busy": "2023-06-03T14:49:24.841156Z",
          "iopub.execute_input": "2023-06-03T14:49:24.841458Z",
          "iopub.status.idle": "2023-06-03T14:49:25.903733Z",
          "shell.execute_reply.started": "2023-06-03T14:49:24.841431Z",
          "shell.execute_reply": "2023-06-03T14:49:25.902425Z"
        },
        "trusted": true
      },
      "execution_count": null,
      "outputs": [
        {
          "name": "stdout",
          "text": "Akurasi pada data latih :  0.980246913580247\nAkurasi pada data uji :  0.991304347826087\n",
          "output_type": "stream"
        }
      ]
    },
    {
      "cell_type": "code",
      "source": [
        "print(classification_report(sv_pred, y_test))"
      ],
      "metadata": {
        "colab": {
          "base_uri": "https://localhost:8080/"
        },
        "id": "xELWZwp9k2V2",
        "outputId": "8bda30e1-044d-4d58-fc3a-0e47e42a8bc2",
        "execution": {
          "iopub.status.busy": "2023-06-03T14:49:25.905704Z",
          "iopub.execute_input": "2023-06-03T14:49:25.906201Z",
          "iopub.status.idle": "2023-06-03T14:49:25.920412Z",
          "shell.execute_reply.started": "2023-06-03T14:49:25.906161Z",
          "shell.execute_reply": "2023-06-03T14:49:25.919151Z"
        },
        "trusted": true
      },
      "execution_count": null,
      "outputs": [
        {
          "name": "stdout",
          "text": "              precision    recall  f1-score   support\n\n           0       0.98      1.00      0.99        46\n           1       1.00      0.99      0.99        69\n\n    accuracy                           0.99       115\n   macro avg       0.99      0.99      0.99       115\nweighted avg       0.99      0.99      0.99       115\n\n",
          "output_type": "stream"
        }
      ]
    },
    {
      "cell_type": "code",
      "source": [
        "confusion_matrix = metrics.confusion_matrix(y_test, sv_pred)\n",
        "cm_display = metrics.ConfusionMatrixDisplay(confusion_matrix = confusion_matrix,\n",
        "                                            display_labels = [False, True])\n",
        "cm_display.plot()\n",
        "plt.show()"
      ],
      "metadata": {
        "colab": {
          "base_uri": "https://localhost:8080/",
          "height": 449
        },
        "id": "uUo5FRmNk6HK",
        "outputId": "6a0a1da4-bc10-425a-c330-a55e715fd7a5",
        "execution": {
          "iopub.status.busy": "2023-06-03T14:49:25.922043Z",
          "iopub.execute_input": "2023-06-03T14:49:25.922726Z",
          "iopub.status.idle": "2023-06-03T14:49:26.117710Z",
          "shell.execute_reply.started": "2023-06-03T14:49:25.922679Z",
          "shell.execute_reply": "2023-06-03T14:49:26.116424Z"
        },
        "trusted": true
      },
      "execution_count": null,
      "outputs": [
        {
          "output_type": "display_data",
          "data": {
            "text/plain": "<Figure size 640x480 with 2 Axes>",
            "image/png": "[encoded data removed]"
          },
          "metadata": {}
        }
      ]
    },
    {
      "cell_type": "markdown",
      "source": [
        "# **Extra Tree**"
      ],
      "metadata": {
        "id": "n-UWA_B3lLGy"
      }
    },
    {
      "cell_type": "code",
      "source": [
        "from sklearn.ensemble import ExtraTreesClassifier\n",
        "extra_trees = ExtraTreesClassifier(n_estimators=1000, random_state=42)\n",
        "extra_trees.fit(X_train, y_train)\n",
        "ext_train = extra_trees.predict(X_train)\n",
        "ext_pred = extra_trees.predict(X_test)\n",
        "\n",
        "trainet_acc = accuracy_score(ext_train, y_train)\n",
        "et_acc = accuracy_score(ext_pred, y_test)\n",
        "print('Akurasi pada data latih : ', trainet_acc)\n",
        "print('Akurasi pada data uji : ', et_acc)"
      ],
      "metadata": {
        "colab": {
          "base_uri": "https://localhost:8080/"
        },
        "id": "wcHyp51C053_",
        "outputId": "faf94ab1-03f2-4eff-aa94-33558b4a98d0",
        "execution": {
          "iopub.status.busy": "2023-06-03T14:49:26.119807Z",
          "iopub.execute_input": "2023-06-03T14:49:26.120107Z",
          "iopub.status.idle": "2023-06-03T14:49:27.477497Z",
          "shell.execute_reply.started": "2023-06-03T14:49:26.120083Z",
          "shell.execute_reply": "2023-06-03T14:49:27.476118Z"
        },
        "trusted": true
      },
      "execution_count": null,
      "outputs": [
        {
          "name": "stdout",
          "text": "Akurasi pada data latih :  1.0\nAkurasi pada data uji :  0.991304347826087\n",
          "output_type": "stream"
        }
      ]
    },
    {
      "cell_type": "code",
      "source": [
        "print(classification_report(ext_pred, y_test))"
      ],
      "metadata": {
        "colab": {
          "base_uri": "https://localhost:8080/"
        },
        "id": "y1AlaPJpld77",
        "outputId": "9eb02c23-5e49-41a1-c143-a395b2a2d9ac",
        "execution": {
          "iopub.status.busy": "2023-06-03T14:49:27.478643Z",
          "iopub.execute_input": "2023-06-03T14:49:27.478916Z",
          "iopub.status.idle": "2023-06-03T14:49:27.493240Z",
          "shell.execute_reply.started": "2023-06-03T14:49:27.478894Z",
          "shell.execute_reply": "2023-06-03T14:49:27.492090Z"
        },
        "trusted": true
      },
      "execution_count": null,
      "outputs": [
        {
          "name": "stdout",
          "text": "              precision    recall  f1-score   support\n\n           0       0.98      1.00      0.99        46\n           1       1.00      0.99      0.99        69\n\n    accuracy                           0.99       115\n   macro avg       0.99      0.99      0.99       115\nweighted avg       0.99      0.99      0.99       115\n\n",
          "output_type": "stream"
        }
      ]
    },
    {
      "cell_type": "code",
      "source": [
        "confusion_matrix = metrics.confusion_matrix(y_test, ext_pred)\n",
        "cm_display = metrics.ConfusionMatrixDisplay(confusion_matrix = confusion_matrix,\n",
        "                                            display_labels = [False, True])\n",
        "cm_display.plot()\n",
        "plt.show()"
      ],
      "metadata": {
        "colab": {
          "base_uri": "https://localhost:8080/",
          "height": 449
        },
        "id": "c67VP_FcldLq",
        "outputId": "fa64f987-a55b-4c6f-bddd-08edf05c2054",
        "execution": {
          "iopub.status.busy": "2023-06-03T14:49:27.494722Z",
          "iopub.execute_input": "2023-06-03T14:49:27.495074Z",
          "iopub.status.idle": "2023-06-03T14:49:27.687291Z",
          "shell.execute_reply.started": "2023-06-03T14:49:27.495026Z",
          "shell.execute_reply": "2023-06-03T14:49:27.686512Z"
        },
        "trusted": true
      },
      "execution_count": null,
      "outputs": [
        {
          "output_type": "display_data",
          "data": {
            "text/plain": "<Figure size 640x480 with 2 Axes>",
            "image/png": "[encoded data removed]"
          },
          "metadata": {}
        }
      ]
    },
    {
      "cell_type": "markdown",
      "source": [
        "# **Ensemble KNN (Hard Voting Classifier)**"
      ],
      "metadata": {
        "id": "G8yiWQ54lQgR"
      }
    },
    {
      "cell_type": "code",
      "source": [
        "from sklearn.neighbors import KNeighborsClassifier\n",
        "from sklearn.ensemble import VotingClassifier\n",
        "knn1 = KNeighborsClassifier(n_neighbors=3, metric='euclidean')\n",
        "knn2 = KNeighborsClassifier(n_neighbors=5, metric='manhattan')\n",
        "knn3 = KNeighborsClassifier(n_neighbors=7, metric='chebyshev')\n",
        "\n",
        "ensemble = VotingClassifier(estimators=[('knn1', knn1), ('knn2', knn2), ('knn3', knn3)], voting='hard')\n",
        "ensemble.fit(X_train, y_train)\n",
        "\n",
        "knn_train = ensemble.predict(X_train)\n",
        "knn_pred = ensemble.predict(X_test)\n",
        "\n",
        "accuracy_trainknn = accuracy_score(knn_train, y_train)\n",
        "accuracy_knn = accuracy_score(knn_pred, y_test)\n",
        "print('Akurasi pada data latih : ', accuracy_trainknn)\n",
        "print('Akurasi pada data uji : ', accuracy_knn)"
      ],
      "metadata": {
        "colab": {
          "base_uri": "https://localhost:8080/"
        },
        "id": "-5TLOig5HE-m",
        "outputId": "4651fa19-864f-48a0-b734-86406a13bd19",
        "execution": {
          "iopub.status.busy": "2023-06-03T14:49:27.688202Z",
          "iopub.execute_input": "2023-06-03T14:49:27.688710Z",
          "iopub.status.idle": "2023-06-03T14:49:27.780088Z",
          "shell.execute_reply.started": "2023-06-03T14:49:27.688684Z",
          "shell.execute_reply": "2023-06-03T14:49:27.778743Z"
        },
        "trusted": true
      },
      "execution_count": null,
      "outputs": [
        {
          "name": "stdout",
          "text": "Akurasi pada data latih :  0.9555555555555556\nAkurasi pada data uji :  0.9652173913043478\n",
          "output_type": "stream"
        }
      ]
    },
    {
      "cell_type": "code",
      "source": [
        "print(classification_report(knn_pred, y_test))"
      ],
      "metadata": {
        "colab": {
          "base_uri": "https://localhost:8080/"
        },
        "id": "O-eq-AUNli3w",
        "outputId": "83c2d0e7-995e-4ee6-94b1-5242ddb0b398",
        "execution": {
          "iopub.status.busy": "2023-06-03T14:49:27.781411Z",
          "iopub.execute_input": "2023-06-03T14:49:27.781810Z",
          "iopub.status.idle": "2023-06-03T14:49:27.796823Z",
          "shell.execute_reply.started": "2023-06-03T14:49:27.781780Z",
          "shell.execute_reply": "2023-06-03T14:49:27.795731Z"
        },
        "trusted": true
      },
      "execution_count": null,
      "outputs": [
        {
          "name": "stdout",
          "text": "              precision    recall  f1-score   support\n\n           0       0.98      0.94      0.96        49\n           1       0.96      0.98      0.97        66\n\n    accuracy                           0.97       115\n   macro avg       0.97      0.96      0.96       115\nweighted avg       0.97      0.97      0.97       115\n\n",
          "output_type": "stream"
        }
      ]
    },
    {
      "cell_type": "code",
      "source": [
        "confusion_matrix = metrics.confusion_matrix(y_test, knn_pred)\n",
        "cm_display = metrics.ConfusionMatrixDisplay(confusion_matrix = confusion_matrix,\n",
        "                                            display_labels = [False, True])\n",
        "cm_display.plot()\n",
        "plt.show()"
      ],
      "metadata": {
        "colab": {
          "base_uri": "https://localhost:8080/",
          "height": 449
        },
        "id": "oNtdgxTWlyAt",
        "outputId": "b06dbcf2-d199-4fcd-c6f5-267edbf62745",
        "execution": {
          "iopub.status.busy": "2023-06-03T14:49:27.799432Z",
          "iopub.execute_input": "2023-06-03T14:49:27.799744Z",
          "iopub.status.idle": "2023-06-03T14:49:27.983621Z",
          "shell.execute_reply.started": "2023-06-03T14:49:27.799720Z",
          "shell.execute_reply": "2023-06-03T14:49:27.982674Z"
        },
        "trusted": true
      },
      "execution_count": null,
      "outputs": [
        {
          "output_type": "display_data",
          "data": {
            "text/plain": "<Figure size 640x480 with 2 Axes>",
            "image/png": "[encoded data removed]"
          },
          "metadata": {}
        }
      ]
    },
    {
      "cell_type": "markdown",
      "source": [
        "# **Stacking-MLP**"
      ],
      "metadata": {
        "id": "C4jJbZ6-lWma"
      }
    },
    {
      "cell_type": "code",
      "source": [
        "from sklearn.neural_network import MLPClassifier\n",
        "from sklearn.ensemble import StackingClassifier\n",
        "\n",
        "# Define the first MLP model\n",
        "mlp1 = MLPClassifier(hidden_layer_sizes=(100, 100), activation='relu',\n",
        "                     alpha=0.0001, batch_size='auto', learning_rate='constant',\n",
        "                     learning_rate_init=0.001, max_iter=200, random_state=42)\n",
        "\n",
        "# Define the second MLP model\n",
        "mlp2 = MLPClassifier(hidden_layer_sizes=(50, 50), activation='relu',\n",
        "                     alpha=0.0001, batch_size='auto', learning_rate='constant',\n",
        "                     learning_rate_init=0.001, max_iter=200, random_state=42)\n",
        "\n",
        "# Define the final meta-classifier (MLP) that combines the predictions of individual models\n",
        "meta_classifier = MLPClassifier(hidden_layer_sizes=(50,), activation='relu',\n",
        "                               alpha=0.0001, batch_size='auto', learning_rate='constant',\n",
        "                               learning_rate_init=0.001, max_iter=200, random_state=42)\n",
        "\n",
        "stacking_classifier = StackingClassifier(estimators=[('mlp1', mlp1), ('mlp2', mlp2)],\n",
        "                                        final_estimator=meta_classifier)\n",
        "\n",
        "stacking_classifier.fit(X_train, y_train)\n",
        "\n",
        "mlp_train = stacking_classifier.predict(X_train)\n",
        "mlp_pred = stacking_classifier.predict(X_test)\n",
        "\n",
        "accuracy_trainmlp = accuracy_score(mlp_train, y_train)\n",
        "accuracy_mlp = accuracy_score(mlp_pred, y_test)\n",
        "print('Akurasi pada data latih : ', accuracy_trainmlp)\n",
        "print('Akurasi pada data uji : ', accuracy_mlp)"
      ],
      "metadata": {
        "colab": {
          "base_uri": "https://localhost:8080/"
        },
        "id": "YacFXI74o-BU",
        "outputId": "b3bbc361-4279-485b-f678-dfb65e83f5d9",
        "execution": {
          "iopub.status.busy": "2023-06-03T14:49:27.984871Z",
          "iopub.execute_input": "2023-06-03T14:49:27.985371Z",
          "iopub.status.idle": "2023-06-03T14:49:33.664453Z",
          "shell.execute_reply.started": "2023-06-03T14:49:27.985343Z",
          "shell.execute_reply": "2023-06-03T14:49:33.663788Z"
        },
        "trusted": true
      },
      "execution_count": null,
      "outputs": [
        {
          "name": "stdout",
          "text": "Akurasi pada data latih :  0.9901234567901235\nAkurasi pada data uji :  0.991304347826087\n",
          "output_type": "stream"
        }
      ]
    },
    {
      "cell_type": "code",
      "source": [
        "print(classification_report(mlp_pred, y_test))"
      ],
      "metadata": {
        "colab": {
          "base_uri": "https://localhost:8080/"
        },
        "id": "EQekZC17lmkL",
        "outputId": "9937fd1f-d905-4199-96f0-d8492740e586",
        "execution": {
          "iopub.status.busy": "2023-06-03T14:49:33.665623Z",
          "iopub.execute_input": "2023-06-03T14:49:33.666280Z",
          "iopub.status.idle": "2023-06-03T14:49:33.677954Z",
          "shell.execute_reply.started": "2023-06-03T14:49:33.666244Z",
          "shell.execute_reply": "2023-06-03T14:49:33.677217Z"
        },
        "trusted": true
      },
      "execution_count": null,
      "outputs": [
        {
          "name": "stdout",
          "text": "              precision    recall  f1-score   support\n\n           0       0.98      1.00      0.99        46\n           1       1.00      0.99      0.99        69\n\n    accuracy                           0.99       115\n   macro avg       0.99      0.99      0.99       115\nweighted avg       0.99      0.99      0.99       115\n\n",
          "output_type": "stream"
        }
      ]
    },
    {
      "cell_type": "code",
      "source": [
        "confusion_matrix = metrics.confusion_matrix(y_test, mlp_pred)\n",
        "cm_display = metrics.ConfusionMatrixDisplay(confusion_matrix = confusion_matrix,\n",
        "                                            display_labels = [False, True])\n",
        "cm_display.plot()\n",
        "plt.show()"
      ],
      "metadata": {
        "colab": {
          "base_uri": "https://localhost:8080/",
          "height": 449
        },
        "id": "w4-is3WXOdXi",
        "outputId": "7854bf52-46e4-4acc-92dd-05def2ee1394",
        "execution": {
          "iopub.status.busy": "2023-06-03T14:49:33.679409Z",
          "iopub.execute_input": "2023-06-03T14:49:33.679932Z",
          "iopub.status.idle": "2023-06-03T14:49:33.874425Z",
          "shell.execute_reply.started": "2023-06-03T14:49:33.679907Z",
          "shell.execute_reply": "2023-06-03T14:49:33.873426Z"
        },
        "trusted": true
      },
      "execution_count": null,
      "outputs": [
        {
          "output_type": "display_data",
          "data": {
            "text/plain": "<Figure size 640x480 with 2 Axes>",
            "image/png": "[encoded data removed]"
          },
          "metadata": {}
        }
      ]
    },
    {
      "cell_type": "markdown",
      "source": [
        "# **AdaBoost**"
      ],
      "metadata": {
        "id": "OrjZdBsLvjMH"
      }
    },
    {
      "cell_type": "code",
      "source": [
        "from sklearn.ensemble import AdaBoostClassifier\n",
        "from sklearn.tree import DecisionTreeClassifier\n",
        "\n",
        "# Membuat objek DecisionTreeClassifier sebagai base learner\n",
        "base_classifier = DecisionTreeClassifier(max_depth=2)\n",
        "\n",
        "# Membuat objek AdaBoostClassifier dengan Decision Tree sebagai base learner\n",
        "adaboost_classifier = AdaBoostClassifier(base_estimator=base_classifier, n_estimators=700, random_state=42)\n",
        "\n",
        "# Melatih model menggunakan data latih\n",
        "adaboost_classifier.fit(X_train, y_train)\n",
        "\n",
        "# Melakukan prediksi pada data latih dan data uji\n",
        "train_predictions = adaboost_classifier.predict(X_train)\n",
        "test_predictions = adaboost_classifier.predict(X_test)\n",
        "\n",
        "# Menghitung akurasi prediksi\n",
        "trainada_accuracy = accuracy_score(y_train, train_predictions)\n",
        "ada_accuracy = accuracy_score(y_test, test_predictions)\n",
        "\n",
        "print(\"Akurasi pada data latih:\", trainada_accuracy)\n",
        "print(\"Akurasi pada data uji:\", ada_accuracy)"
      ],
      "metadata": {
        "colab": {
          "base_uri": "https://localhost:8080/"
        },
        "id": "Cx4GcBb0u3Pn",
        "outputId": "57e72103-e600-4db0-96ad-ecbb186c886c",
        "execution": {
          "iopub.status.busy": "2023-06-03T14:49:42.477855Z",
          "iopub.execute_input": "2023-06-03T14:49:42.478140Z",
          "iopub.status.idle": "2023-06-03T14:49:43.792196Z",
          "shell.execute_reply.started": "2023-06-03T14:49:42.478105Z",
          "shell.execute_reply": "2023-06-03T14:49:43.790925Z"
        },
        "trusted": true
      },
      "execution_count": null,
      "outputs": [
        {
          "name": "stdout",
          "text": "Akurasi pada data latih: 1.0\nAkurasi pada data uji: 0.9826086956521739\n",
          "output_type": "stream"
        }
      ]
    },
    {
      "cell_type": "code",
      "source": [
        "print(classification_report(test_predictions, y_test))"
      ],
      "metadata": {
        "colab": {
          "base_uri": "https://localhost:8080/"
        },
        "id": "Fxzim4wrgtbn",
        "outputId": "2092cd9e-8a2e-4cbc-f7f9-4e83d1824571",
        "execution": {
          "iopub.status.busy": "2023-06-03T14:49:43.793338Z",
          "iopub.execute_input": "2023-06-03T14:49:43.794021Z",
          "iopub.status.idle": "2023-06-03T14:49:43.806279Z",
          "shell.execute_reply.started": "2023-06-03T14:49:43.793994Z",
          "shell.execute_reply": "2023-06-03T14:49:43.804776Z"
        },
        "trusted": true
      },
      "execution_count": null,
      "outputs": [
        {
          "name": "stdout",
          "text": "              precision    recall  f1-score   support\n\n           0       0.98      0.98      0.98        47\n           1       0.99      0.99      0.99        68\n\n    accuracy                           0.98       115\n   macro avg       0.98      0.98      0.98       115\nweighted avg       0.98      0.98      0.98       115\n\n",
          "output_type": "stream"
        }
      ]
    },
    {
      "cell_type": "code",
      "source": [
        "confusion_matrix = metrics.confusion_matrix(y_test,test_predictions)\n",
        "cm_display = metrics.ConfusionMatrixDisplay(confusion_matrix = confusion_matrix,\n",
        "                                            display_labels = [False, True])\n",
        "cm_display.plot()\n",
        "plt.show()"
      ],
      "metadata": {
        "colab": {
          "base_uri": "https://localhost:8080/",
          "height": 449
        },
        "id": "J-ZKuigsg2-f",
        "outputId": "2d6e8fc5-3cdf-4cac-d500-58db486f1fd9",
        "execution": {
          "iopub.status.busy": "2023-06-03T14:49:43.807529Z",
          "iopub.execute_input": "2023-06-03T14:49:43.808118Z",
          "iopub.status.idle": "2023-06-03T14:49:43.995249Z",
          "shell.execute_reply.started": "2023-06-03T14:49:43.808091Z",
          "shell.execute_reply": "2023-06-03T14:49:43.994285Z"
        },
        "trusted": true
      },
      "execution_count": null,
      "outputs": [
        {
          "output_type": "display_data",
          "data": {
            "text/plain": "<Figure size 640x480 with 2 Axes>",
            "image/png": "[encoded data removed]"
          },
          "metadata": {}
        }
      ]
    },
    {
      "cell_type": "code",
      "source": [
        "import seaborn as sns\n",
        "import matplotlib.pyplot as plt\n",
        "\n",
        "# List model\n",
        "models = ['Bagging-SVM', 'Extra Tree', 'Voting-KNN', 'Stacking-MLP', 'AdaBoost']\n",
        "\n",
        "# List akurasi\n",
        "accuracies = [svm_acc, et_acc, accuracy_knn, accuracy_mlp, ada_accuracy]\n",
        "\n",
        "# Mengatur gaya plot\n",
        "sns.set_style(\"whitegrid\")\n",
        "\n",
        "# Membuat plot\n",
        "plt.figure(figsize=(10, 6))\n",
        "sns.barplot(x=models, y=accuracies, palette=\"viridis\")\n",
        "\n",
        "# Menambahkan label pada batang\n",
        "for i in range(len(models)):\n",
        "    plt.text(i, accuracies[i], str(accuracies[i]), ha='center', va='bottom', fontsize=8)\n",
        "\n",
        "# Menambahkan judul dan label sumbu\n",
        "plt.title('Akurasi pada Setiap Model', fontsize=14)\n",
        "plt.xlabel('Model', fontsize=12)\n",
        "plt.ylabel('Akurasi', fontsize=12)\n",
        "\n",
        "# Menampilkan plot\n",
        "plt.tight_layout()\n",
        "plt.show()\n"
      ],
      "metadata": {
        "id": "E-Ikf3C2V2ce",
        "execution": {
          "iopub.status.busy": "2023-06-03T14:51:24.266477Z",
          "iopub.execute_input": "2023-06-03T14:51:24.266937Z",
          "iopub.status.idle": "2023-06-03T14:51:24.575603Z",
          "shell.execute_reply.started": "2023-06-03T14:51:24.266907Z",
          "shell.execute_reply": "2023-06-03T14:51:24.574395Z"
        },
        "trusted": true,
        "outputId": "3dc01b6e-5889-4902-9008-af530e15c015"
      },
      "execution_count": null,
      "outputs": [
        {
          "output_type": "display_data",
          "data": {
            "text/plain": "<Figure size 1000x600 with 1 Axes>",
            "image/png": "[encoded data removed]"
          },
          "metadata": {}
        }
      ]
    }
  ]
}